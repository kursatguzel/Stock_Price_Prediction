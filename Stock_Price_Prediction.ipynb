{
  "nbformat": 4,
  "nbformat_minor": 0,
  "metadata": {
    "colab": {
      "name": "Stock_Price_Prediction.ipynb",
      "provenance": [],
      "collapsed_sections": [
        "I1Q3uMYb4o1r"
      ]
    },
    "kernelspec": {
      "name": "python3",
      "display_name": "Python 3"
    },
    "language_info": {
      "name": "python"
    },
    "accelerator": "GPU"
  },
  "cells": [
    {
      "cell_type": "markdown",
      "metadata": {
        "id": "I1Q3uMYb4o1r"
      },
      "source": [
        "# Kütüphane"
      ]
    },
    {
      "cell_type": "code",
      "metadata": {
        "colab": {
          "base_uri": "https://localhost:8080/"
        },
        "id": "fzY4oK1x4Qdj",
        "outputId": "cb58f247-a469-498f-dd77-b97411bd34f2"
      },
      "source": [
        "import math\n",
        "import numpy as np\n",
        "import pandas as pd\n",
        "from sklearn.preprocessing import MinMaxScaler\n",
        "from tensorflow.keras.models import Sequential\n",
        "from tensorflow.keras.layers import Dense, LSTM\n",
        "import matplotlib.pyplot as plt\n",
        "plt.style.use('fivethirtyeight')\n",
        "from pandas_datareader import data as pdr\n",
        "!pip install yfinance\n",
        "import yfinance as yf"
      ],
      "execution_count": 25,
      "outputs": [
        {
          "output_type": "stream",
          "name": "stdout",
          "text": [
            "Requirement already satisfied: yfinance in /usr/local/lib/python3.7/dist-packages (0.1.67)\n",
            "Requirement already satisfied: multitasking>=0.0.7 in /usr/local/lib/python3.7/dist-packages (from yfinance) (0.0.10)\n",
            "Requirement already satisfied: requests>=2.20 in /usr/local/lib/python3.7/dist-packages (from yfinance) (2.23.0)\n",
            "Requirement already satisfied: lxml>=4.5.1 in /usr/local/lib/python3.7/dist-packages (from yfinance) (4.7.1)\n",
            "Requirement already satisfied: pandas>=0.24 in /usr/local/lib/python3.7/dist-packages (from yfinance) (1.1.5)\n",
            "Requirement already satisfied: numpy>=1.15 in /usr/local/lib/python3.7/dist-packages (from yfinance) (1.19.5)\n",
            "Requirement already satisfied: python-dateutil>=2.7.3 in /usr/local/lib/python3.7/dist-packages (from pandas>=0.24->yfinance) (2.8.2)\n",
            "Requirement already satisfied: pytz>=2017.2 in /usr/local/lib/python3.7/dist-packages (from pandas>=0.24->yfinance) (2018.9)\n",
            "Requirement already satisfied: six>=1.5 in /usr/local/lib/python3.7/dist-packages (from python-dateutil>=2.7.3->pandas>=0.24->yfinance) (1.15.0)\n",
            "Requirement already satisfied: idna<3,>=2.5 in /usr/local/lib/python3.7/dist-packages (from requests>=2.20->yfinance) (2.10)\n",
            "Requirement already satisfied: chardet<4,>=3.0.2 in /usr/local/lib/python3.7/dist-packages (from requests>=2.20->yfinance) (3.0.4)\n",
            "Requirement already satisfied: certifi>=2017.4.17 in /usr/local/lib/python3.7/dist-packages (from requests>=2.20->yfinance) (2021.10.8)\n",
            "Requirement already satisfied: urllib3!=1.25.0,!=1.25.1,<1.26,>=1.21.1 in /usr/local/lib/python3.7/dist-packages (from requests>=2.20->yfinance) (1.24.3)\n"
          ]
        }
      ]
    },
    {
      "cell_type": "markdown",
      "metadata": {
        "id": "3wMir8S3O66V"
      },
      "source": [
        "# veri işleme"
      ]
    },
    {
      "cell_type": "code",
      "metadata": {
        "id": "lNfICCM68fjF"
      },
      "source": [
        "yf.pdr_override()"
      ],
      "execution_count": 206,
      "outputs": []
    },
    {
      "cell_type": "code",
      "metadata": {
        "colab": {
          "base_uri": "https://localhost:8080/",
          "height": 0
        },
        "id": "4sZSAGf45bhS",
        "outputId": "2ce5c2ba-2489-4a51-81ee-793c8df8b192"
      },
      "source": [
        "df = pdr.get_data_yahoo('THYAO.IS', data_source='yahoo', start='2010-10-01', end='2021-12-14')\n",
        "df.head()"
      ],
      "execution_count": 207,
      "outputs": [
        {
          "output_type": "stream",
          "name": "stdout",
          "text": [
            "\r[*********************100%***********************]  1 of 1 completed\n"
          ]
        },
        {
          "output_type": "execute_result",
          "data": {
            "text/html": [
              "<div>\n",
              "<style scoped>\n",
              "    .dataframe tbody tr th:only-of-type {\n",
              "        vertical-align: middle;\n",
              "    }\n",
              "\n",
              "    .dataframe tbody tr th {\n",
              "        vertical-align: top;\n",
              "    }\n",
              "\n",
              "    .dataframe thead th {\n",
              "        text-align: right;\n",
              "    }\n",
              "</style>\n",
              "<table border=\"1\" class=\"dataframe\">\n",
              "  <thead>\n",
              "    <tr style=\"text-align: right;\">\n",
              "      <th></th>\n",
              "      <th>Open</th>\n",
              "      <th>High</th>\n",
              "      <th>Low</th>\n",
              "      <th>Close</th>\n",
              "      <th>Adj Close</th>\n",
              "      <th>Volume</th>\n",
              "    </tr>\n",
              "    <tr>\n",
              "      <th>Date</th>\n",
              "      <th></th>\n",
              "      <th></th>\n",
              "      <th></th>\n",
              "      <th></th>\n",
              "      <th></th>\n",
              "      <th></th>\n",
              "    </tr>\n",
              "  </thead>\n",
              "  <tbody>\n",
              "    <tr>\n",
              "      <th>2010-10-01</th>\n",
              "      <td>4.202898</td>\n",
              "      <td>4.311594</td>\n",
              "      <td>4.094202</td>\n",
              "      <td>4.202898</td>\n",
              "      <td>4.133933</td>\n",
              "      <td>14443941</td>\n",
              "    </tr>\n",
              "    <tr>\n",
              "      <th>2010-10-04</th>\n",
              "      <td>4.275362</td>\n",
              "      <td>4.311594</td>\n",
              "      <td>4.130434</td>\n",
              "      <td>4.275362</td>\n",
              "      <td>4.205207</td>\n",
              "      <td>7132942</td>\n",
              "    </tr>\n",
              "    <tr>\n",
              "      <th>2010-10-05</th>\n",
              "      <td>4.492753</td>\n",
              "      <td>4.528985</td>\n",
              "      <td>4.275362</td>\n",
              "      <td>4.492753</td>\n",
              "      <td>4.419031</td>\n",
              "      <td>21407429</td>\n",
              "    </tr>\n",
              "    <tr>\n",
              "      <th>2010-10-06</th>\n",
              "      <td>4.420289</td>\n",
              "      <td>4.565217</td>\n",
              "      <td>4.347826</td>\n",
              "      <td>4.420289</td>\n",
              "      <td>4.347756</td>\n",
              "      <td>14610120</td>\n",
              "    </tr>\n",
              "    <tr>\n",
              "      <th>2010-10-07</th>\n",
              "      <td>4.347826</td>\n",
              "      <td>4.420289</td>\n",
              "      <td>4.275362</td>\n",
              "      <td>4.347826</td>\n",
              "      <td>4.276483</td>\n",
              "      <td>13850056</td>\n",
              "    </tr>\n",
              "  </tbody>\n",
              "</table>\n",
              "</div>"
            ],
            "text/plain": [
              "                Open      High       Low     Close  Adj Close    Volume\n",
              "Date                                                                   \n",
              "2010-10-01  4.202898  4.311594  4.094202  4.202898   4.133933  14443941\n",
              "2010-10-04  4.275362  4.311594  4.130434  4.275362   4.205207   7132942\n",
              "2010-10-05  4.492753  4.528985  4.275362  4.492753   4.419031  21407429\n",
              "2010-10-06  4.420289  4.565217  4.347826  4.420289   4.347756  14610120\n",
              "2010-10-07  4.347826  4.420289  4.275362  4.347826   4.276483  13850056"
            ]
          },
          "metadata": {},
          "execution_count": 207
        }
      ]
    },
    {
      "cell_type": "code",
      "metadata": {
        "colab": {
          "base_uri": "https://localhost:8080/"
        },
        "id": "sjcDKPPu9xVa",
        "outputId": "511f4127-875d-48cf-9ba2-14c6e9af7c40"
      },
      "source": [
        "df.shape"
      ],
      "execution_count": 208,
      "outputs": [
        {
          "output_type": "execute_result",
          "data": {
            "text/plain": [
              "(2893, 6)"
            ]
          },
          "metadata": {},
          "execution_count": 208
        }
      ]
    },
    {
      "cell_type": "code",
      "metadata": {
        "colab": {
          "base_uri": "https://localhost:8080/",
          "height": 0
        },
        "id": "__85O-J-93f6",
        "outputId": "e5ede802-74e3-4597-c9e6-728bfd9fecd6"
      },
      "source": [
        "plt.figure(figsize=(12,6))\n",
        "plt.title('Hisse')\n",
        "plt.plot(df['Close'])\n",
        "plt.xlabel('Zaman', fontsize=18)\n",
        "plt.ylabel('TL', fontsize=18)\n",
        "plt.show()"
      ],
      "execution_count": 209,
      "outputs": [
        {
          "output_type": "display_data",
          "data": {
            "image/png": "[encoded data removed]",
            "text/plain": [
              "<Figure size 864x432 with 1 Axes>"
            ]
          },
          "metadata": {}
        }
      ]
    },
    {
      "cell_type": "markdown",
      "metadata": {
        "id": "FOGG15PjIfF-"
      },
      "source": [
        "# LSTM DEMO"
      ]
    },
    {
      "cell_type": "code",
      "metadata": {
        "id": "oickO4MM_hjJ",
        "colab": {
          "base_uri": "https://localhost:8080/"
        },
        "outputId": "a2565af5-c0f2-4469-aa5a-36a683630388"
      },
      "source": [
        "#Create a new dataframe with only the Close column\n",
        "data = df.filter(['Close'])\n",
        "#Convert the dataframe to a numpy array\n",
        "dataset = data.values\n",
        "#Get the number of rows to train the model on\n",
        "training_data_len = math.ceil(len(dataset)* .8)\n",
        "training_data_len"
      ],
      "execution_count": 210,
      "outputs": [
        {
          "output_type": "execute_result",
          "data": {
            "text/plain": [
              "2315"
            ]
          },
          "metadata": {},
          "execution_count": 210
        }
      ]
    },
    {
      "cell_type": "code",
      "metadata": {
        "id": "nT6293FBAc8V",
        "colab": {
          "base_uri": "https://localhost:8080/"
        },
        "outputId": "a7b36011-bf5d-488e-8608-81041f2d822e"
      },
      "source": [
        "#Scale the data\n",
        "scaler = MinMaxScaler(feature_range=(0,1))\n",
        "scaled_data = scaler.fit_transform(dataset)\n",
        "scaled_data"
      ],
      "execution_count": 211,
      "outputs": [
        {
          "output_type": "execute_result",
          "data": {
            "text/plain": [
              "array([[0.11787873],\n",
              "       [0.12134577],\n",
              "       [0.13174682],\n",
              "       ...,\n",
              "       [0.96937929],\n",
              "       [0.98086206],\n",
              "       [1.        ]])"
            ]
          },
          "metadata": {},
          "execution_count": 211
        }
      ]
    },
    {
      "cell_type": "code",
      "source": [
        "#Create the training data set\n",
        "#Create the scaled training data set\n",
        "train_data = scaled_data[0:training_data_len, :]\n",
        "#split the data into x_train and y_train data sets\n",
        "x_train = []\n",
        "y_train = []\n",
        "\n",
        "for i in range(60, len(train_data)):\n",
        "  x_train.append(train_data[i-60:i, 0])\n",
        "  y_train.append(train_data[i, 0])\n",
        "  if i<=61:\n",
        "    print(x_train)\n",
        "    print(y_train)\n",
        "    print()\n"
      ],
      "metadata": {
        "colab": {
          "base_uri": "https://localhost:8080/"
        },
        "id": "F7a8quYssAEX",
        "outputId": "fcdf9f7f-6e75-4e9d-8124-32209b75ff47"
      },
      "execution_count": 212,
      "outputs": [
        {
          "output_type": "stream",
          "name": "stdout",
          "text": [
            "[array([0.11787873, 0.12134577, 0.13174682, 0.12827978, 0.1248128 ,\n",
            "       0.1248128 , 0.12827978, 0.1300133 , 0.1248128 , 0.11787873,\n",
            "       0.11961225, 0.11961225, 0.11961225, 0.12307928, 0.12307928,\n",
            "       0.12654627, 0.12827978, 0.1300133 , 0.12307928, 0.12307928,\n",
            "       0.12134577, 0.11995893, 0.12203918, 0.12966662, 0.12758641,\n",
            "       0.12827978, 0.1310534 , 0.12827978, 0.12827978, 0.12065235,\n",
            "       0.12273255, 0.11787873, 0.10886447, 0.10955788, 0.11649195,\n",
            "       0.11163808, 0.10123703, 0.10609085, 0.10886447, 0.11094471,\n",
            "       0.10401065, 0.10123703, 0.09915683, 0.09846342, 0.0936096 ,\n",
            "       0.09014257, 0.09222277, 0.09846342, 0.09499638, 0.09222277,\n",
            "       0.08667553, 0.08667553, 0.09083598, 0.09777   , 0.09915683,\n",
            "       0.09846342, 0.09915683, 0.10054362, 0.10331723, 0.10539744])]\n",
            "[0.10401064968071491]\n",
            "\n",
            "[array([0.11787873, 0.12134577, 0.13174682, 0.12827978, 0.1248128 ,\n",
            "       0.1248128 , 0.12827978, 0.1300133 , 0.1248128 , 0.11787873,\n",
            "       0.11961225, 0.11961225, 0.11961225, 0.12307928, 0.12307928,\n",
            "       0.12654627, 0.12827978, 0.1300133 , 0.12307928, 0.12307928,\n",
            "       0.12134577, 0.11995893, 0.12203918, 0.12966662, 0.12758641,\n",
            "       0.12827978, 0.1310534 , 0.12827978, 0.12827978, 0.12065235,\n",
            "       0.12273255, 0.11787873, 0.10886447, 0.10955788, 0.11649195,\n",
            "       0.11163808, 0.10123703, 0.10609085, 0.10886447, 0.11094471,\n",
            "       0.10401065, 0.10123703, 0.09915683, 0.09846342, 0.0936096 ,\n",
            "       0.09014257, 0.09222277, 0.09846342, 0.09499638, 0.09222277,\n",
            "       0.08667553, 0.08667553, 0.09083598, 0.09777   , 0.09915683,\n",
            "       0.09846342, 0.09915683, 0.10054362, 0.10331723, 0.10539744]), array([0.12134577, 0.13174682, 0.12827978, 0.1248128 , 0.1248128 ,\n",
            "       0.12827978, 0.1300133 , 0.1248128 , 0.11787873, 0.11961225,\n",
            "       0.11961225, 0.11961225, 0.12307928, 0.12307928, 0.12654627,\n",
            "       0.12827978, 0.1300133 , 0.12307928, 0.12307928, 0.12134577,\n",
            "       0.11995893, 0.12203918, 0.12966662, 0.12758641, 0.12827978,\n",
            "       0.1310534 , 0.12827978, 0.12827978, 0.12065235, 0.12273255,\n",
            "       0.11787873, 0.10886447, 0.10955788, 0.11649195, 0.11163808,\n",
            "       0.10123703, 0.10609085, 0.10886447, 0.11094471, 0.10401065,\n",
            "       0.10123703, 0.09915683, 0.09846342, 0.0936096 , 0.09014257,\n",
            "       0.09222277, 0.09846342, 0.09499638, 0.09222277, 0.08667553,\n",
            "       0.08667553, 0.09083598, 0.09777   , 0.09915683, 0.09846342,\n",
            "       0.09915683, 0.10054362, 0.10331723, 0.10539744, 0.10401065])]\n",
            "[0.10401064968071491, 0.10955788311359432]\n",
            "\n"
          ]
        }
      ]
    },
    {
      "cell_type": "code",
      "source": [
        "# Convert the x_train and y_train to numpy arrays\n",
        "x_train, y_train = np.array(x_train), np.array(y_train)"
      ],
      "metadata": {
        "id": "qOON4uEV0v5H"
      },
      "execution_count": 213,
      "outputs": []
    },
    {
      "cell_type": "code",
      "source": [
        "x_train.shape"
      ],
      "metadata": {
        "colab": {
          "base_uri": "https://localhost:8080/"
        },
        "id": "Dk8odEFt1WsL",
        "outputId": "b2a11d65-ade2-425b-8119-91663875b6ea"
      },
      "execution_count": 214,
      "outputs": [
        {
          "output_type": "execute_result",
          "data": {
            "text/plain": [
              "(2255, 60)"
            ]
          },
          "metadata": {},
          "execution_count": 214
        }
      ]
    },
    {
      "cell_type": "code",
      "source": [
        "#Reshape the data\n",
        "x_train = np.reshape(x_train, (x_train.shape[0], x_train.shape[1], 1))"
      ],
      "metadata": {
        "id": "lkL1E1Vq1gYW"
      },
      "execution_count": 215,
      "outputs": []
    },
    {
      "cell_type": "code",
      "source": [
        "# Build the LSTM model\n",
        "model =Sequential()\n",
        "model.add(LSTM(50, return_sequences=True, input_shape=(x_train.shape[1], 1)))\n",
        "model.add(LSTM(50, return_sequences=False))\n",
        "model.add(Dense(25))\n",
        "model.add(Dense(1))"
      ],
      "metadata": {
        "id": "baBSi87V299J"
      },
      "execution_count": 216,
      "outputs": []
    },
    {
      "cell_type": "code",
      "source": [
        "#Compile the model\n",
        "model.compile(optimizer='adam', loss='mean_squared_error')"
      ],
      "metadata": {
        "id": "l2Fg3j2I4rI_"
      },
      "execution_count": 217,
      "outputs": []
    },
    {
      "cell_type": "code",
      "source": [
        "#Train the model\n",
        "model.fit(x_train, y_train, batch_size=1, epochs=1)"
      ],
      "metadata": {
        "colab": {
          "base_uri": "https://localhost:8080/"
        },
        "id": "xJrwUpoG5DM8",
        "outputId": "b15ca711-ae2b-4bd6-9252-b722442d77f1"
      },
      "execution_count": 218,
      "outputs": [
        {
          "output_type": "stream",
          "name": "stdout",
          "text": [
            "2255/2255 [==============================] - 47s 19ms/step - loss: 0.0013\n"
          ]
        },
        {
          "output_type": "execute_result",
          "data": {
            "text/plain": [
              "<keras.callbacks.History at 0x7f3805673d50>"
            ]
          },
          "metadata": {},
          "execution_count": 218
        }
      ]
    },
    {
      "cell_type": "code",
      "source": [
        "#Create the testing data set\n",
        "#Create a new array containing scaled values from index 954 to 2000\n",
        "test_data = scaled_data[training_data_len - 60: , :]\n",
        "#Create the data sets x_test and y_test\n",
        "x_test=[]\n",
        "y_test = dataset[training_data_len:, :]\n",
        "for i in range(60, len(test_data)):\n",
        "  x_test.append(test_data[i-60:i, 0])\n"
      ],
      "metadata": {
        "id": "mBfE8zEm5ejb"
      },
      "execution_count": 219,
      "outputs": []
    },
    {
      "cell_type": "code",
      "source": [
        "#convert the data to a numpy array\n",
        "x_test = np.array(x_test)"
      ],
      "metadata": {
        "id": "LW8qmMOZ7UaP"
      },
      "execution_count": 220,
      "outputs": []
    },
    {
      "cell_type": "code",
      "source": [
        "#Reshape the data\n",
        "x_test = np.reshape(x_test, (x_test.shape[0], x_test.shape[1], 1))"
      ],
      "metadata": {
        "id": "3dFG4wCr7f_s"
      },
      "execution_count": 221,
      "outputs": []
    },
    {
      "cell_type": "code",
      "source": [
        "#Get the models predicted price values\n",
        "predictions = model.predict(x_test)\n",
        "predictions = scaler.inverse_transform(predictions)"
      ],
      "metadata": {
        "id": "YcYeRvW776wM"
      },
      "execution_count": 222,
      "outputs": []
    },
    {
      "cell_type": "code",
      "source": [
        "#Get the root mean squared error\n",
        "rmse = np.sqrt(np.mean(predictions-y_test)**2)\n",
        "rmse"
      ],
      "metadata": {
        "colab": {
          "base_uri": "https://localhost:8080/"
        },
        "id": "0jzZp2cD8QQi",
        "outputId": "9733e750-0253-4642-b5fa-e226e1ff293e"
      },
      "execution_count": 223,
      "outputs": [
        {
          "output_type": "execute_result",
          "data": {
            "text/plain": [
              "0.17550341150752402"
            ]
          },
          "metadata": {},
          "execution_count": 223
        }
      ]
    },
    {
      "cell_type": "code",
      "source": [
        "#Plot the data\n",
        "train = data[:training_data_len]\n",
        "valid = data[training_data_len:]\n",
        "valid['Predictions']= predictions\n",
        "#Visualize the data\n",
        "plt.figure(figsize=(16,8))\n",
        "plt.title('Model')\n",
        "plt.xlabel('Date', fontsize=18)\n",
        "plt.ylabel('Hisse kapanış fiyatı', fontsize=18)\n",
        "plt.plot(train['Close'])\n",
        "plt.plot(valid[['Close', 'Predictions']])\n",
        "plt.legend(['Train', 'Val', 'Predictions'], loc='lower right')\n",
        "plt.show()"
      ],
      "metadata": {
        "colab": {
          "base_uri": "https://localhost:8080/",
          "height": 668
        },
        "id": "ECi4HmaIH6ry",
        "outputId": "2fb32f94-ff70-4f55-b92c-ceaad55f7e46"
      },
      "execution_count": 224,
      "outputs": [
        {
          "output_type": "stream",
          "name": "stderr",
          "text": [
            "/usr/local/lib/python3.7/dist-packages/ipykernel_launcher.py:4: SettingWithCopyWarning: \n",
            "A value is trying to be set on a copy of a slice from a DataFrame.\n",
            "Try using .loc[row_indexer,col_indexer] = value instead\n",
            "\n",
            "See the caveats in the documentation: https://pandas.pydata.org/pandas-docs/stable/user_guide/indexing.html#returning-a-view-versus-a-copy\n",
            "  after removing the cwd from sys.path.\n"
          ]
        },
        {
          "output_type": "display_data",
          "data": {
            "image/png": "[encoded data removed]",
            "text/plain": [
              "<Figure size 1152x576 with 1 Axes>"
            ]
          },
          "metadata": {}
        }
      ]
    },
    {
      "cell_type": "code",
      "source": [
        "#Show the valid and predicted prices\n",
        "valid"
      ],
      "metadata": {
        "colab": {
          "base_uri": "https://localhost:8080/",
          "height": 455
        },
        "id": "C7x_S9IKMUvZ",
        "outputId": "29e490d9-7c74-4931-d44e-6dc6a00ba400"
      },
      "execution_count": 225,
      "outputs": [
        {
          "output_type": "execute_result",
          "data": {
            "text/html": [
              "<div>\n",
              "<style scoped>\n",
              "    .dataframe tbody tr th:only-of-type {\n",
              "        vertical-align: middle;\n",
              "    }\n",
              "\n",
              "    .dataframe tbody tr th {\n",
              "        vertical-align: top;\n",
              "    }\n",
              "\n",
              "    .dataframe thead th {\n",
              "        text-align: right;\n",
              "    }\n",
              "</style>\n",
              "<table border=\"1\" class=\"dataframe\">\n",
              "  <thead>\n",
              "    <tr style=\"text-align: right;\">\n",
              "      <th></th>\n",
              "      <th>Close</th>\n",
              "      <th>Predictions</th>\n",
              "    </tr>\n",
              "    <tr>\n",
              "      <th>Date</th>\n",
              "      <th></th>\n",
              "      <th></th>\n",
              "    </tr>\n",
              "  </thead>\n",
              "  <tbody>\n",
              "    <tr>\n",
              "      <th>2019-08-26</th>\n",
              "      <td>11.580000</td>\n",
              "      <td>11.532302</td>\n",
              "    </tr>\n",
              "    <tr>\n",
              "      <th>2019-08-27</th>\n",
              "      <td>11.560000</td>\n",
              "      <td>11.564369</td>\n",
              "    </tr>\n",
              "    <tr>\n",
              "      <th>2019-08-28</th>\n",
              "      <td>11.350000</td>\n",
              "      <td>11.630062</td>\n",
              "    </tr>\n",
              "    <tr>\n",
              "      <th>2019-08-29</th>\n",
              "      <td>11.300000</td>\n",
              "      <td>11.665287</td>\n",
              "    </tr>\n",
              "    <tr>\n",
              "      <th>2019-08-30</th>\n",
              "      <td>11.300000</td>\n",
              "      <td>11.672329</td>\n",
              "    </tr>\n",
              "    <tr>\n",
              "      <th>...</th>\n",
              "      <td>...</td>\n",
              "      <td>...</td>\n",
              "    </tr>\n",
              "    <tr>\n",
              "      <th>2021-12-07</th>\n",
              "      <td>19.200001</td>\n",
              "      <td>18.275261</td>\n",
              "    </tr>\n",
              "    <tr>\n",
              "      <th>2021-12-08</th>\n",
              "      <td>20.379999</td>\n",
              "      <td>18.553001</td>\n",
              "    </tr>\n",
              "    <tr>\n",
              "      <th>2021-12-09</th>\n",
              "      <td>22.000000</td>\n",
              "      <td>19.032124</td>\n",
              "    </tr>\n",
              "    <tr>\n",
              "      <th>2021-12-10</th>\n",
              "      <td>22.240000</td>\n",
              "      <td>19.812658</td>\n",
              "    </tr>\n",
              "    <tr>\n",
              "      <th>2021-12-13</th>\n",
              "      <td>22.639999</td>\n",
              "      <td>20.608931</td>\n",
              "    </tr>\n",
              "  </tbody>\n",
              "</table>\n",
              "<p>578 rows × 2 columns</p>\n",
              "</div>"
            ],
            "text/plain": [
              "                Close  Predictions\n",
              "Date                              \n",
              "2019-08-26  11.580000    11.532302\n",
              "2019-08-27  11.560000    11.564369\n",
              "2019-08-28  11.350000    11.630062\n",
              "2019-08-29  11.300000    11.665287\n",
              "2019-08-30  11.300000    11.672329\n",
              "...               ...          ...\n",
              "2021-12-07  19.200001    18.275261\n",
              "2021-12-08  20.379999    18.553001\n",
              "2021-12-09  22.000000    19.032124\n",
              "2021-12-10  22.240000    19.812658\n",
              "2021-12-13  22.639999    20.608931\n",
              "\n",
              "[578 rows x 2 columns]"
            ]
          },
          "metadata": {},
          "execution_count": 225
        }
      ]
    },
    {
      "cell_type": "code",
      "source": [
        "#Get the quote\n",
        "stock_quote = pdr.get_data_yahoo('THYAO.IS', data_source='yahoo', start='2010-10-30', end='2021-12-14')\n",
        "#Create a new dataframe\n",
        "new_df = stock_quote.filter(['Close'])\n",
        "#Get the last 60 day closing price values and convert dataframe to an array\n",
        "last_60_days = new_df[-60:].values\n",
        "#Scale the data to be values between 0 and 1\n",
        "last_60_days_scaled = scaler.transform(last_60_days)\n",
        "#Create an empty list\n",
        "X_test = []\n",
        "#Append teh past 60 days\n",
        "X_test.append(last_60_days_scaled)\n",
        "#Convert the X_test data set to a numpy array\n",
        "X_test = np.array(X_test)\n",
        "#Reshape the data\n",
        "X_test = np.reshape(X_test, (X_test.shape[0], X_test.shape[1], 1))\n",
        "#Get the predicted scaled price\n",
        "pred_price = model.predict(X_test)\n",
        "#undo the scaling\n",
        "pred_price = scaler.inverse_transform(pred_price)\n",
        "print(pred_price)"
      ],
      "metadata": {
        "colab": {
          "base_uri": "https://localhost:8080/"
        },
        "id": "k4yNTP0UMu_J",
        "outputId": "54b28e57-dba1-4895-f34d-c7df8e71aadf"
      },
      "execution_count": 226,
      "outputs": [
        {
          "output_type": "stream",
          "name": "stdout",
          "text": [
            "\r[*********************100%***********************]  1 of 1 completed\n",
            "[[21.33377]]\n"
          ]
        }
      ]
    },
    {
      "cell_type": "code",
      "source": [
        "#Get the quote\n",
        "stock_quote2 = pdr.get_data_yahoo('THYAO.IS', data_source='yahoo', start='2021-12-14', end='2021-12-14')\n",
        "print(stock_quote2['Close'])"
      ],
      "metadata": {
        "colab": {
          "base_uri": "https://localhost:8080/"
        },
        "id": "DZybv3DSWUjC",
        "outputId": "d5cce06e-98e3-4a02-ee35-6e215f9ff2bd"
      },
      "execution_count": 227,
      "outputs": [
        {
          "output_type": "stream",
          "name": "stdout",
          "text": [
            "\r[*********************100%***********************]  1 of 1 completed\n",
            "\n",
            "1 Failed download:\n",
            "- THYAO.IS: No data found for this date range, symbol may be delisted\n",
            "Series([], Name: Close, dtype: float64)\n"
          ]
        }
      ]
    }
  ]
}